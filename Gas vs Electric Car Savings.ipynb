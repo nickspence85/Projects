{
 "cells": [
  {
   "cell_type": "markdown",
   "metadata": {},
   "source": [
    "Should you buy a gas or electric car to save money?"
   ]
  },
  {
   "cell_type": "code",
   "execution_count": 1,
   "metadata": {},
   "outputs": [
    {
     "name": "stdout",
     "output_type": "stream",
     "text": [
      "Your total savings with the GMC Canyon over the Tesla Model 3 is approximately, $757.52\n"
     ]
    }
   ],
   "source": [
    "# Gas Car Inputs\n",
    "gas_car = str(input('Enter Make and Model of the Gas Car: '))    \n",
    "gas_highway_mpg = float(input('Enter the Highway MPG of the Gas Car (ex: 32): '))    \n",
    "gas_city_mpg =float(input('Enter the City MPG of your Gas Car (ex: 20): '))    \n",
    "gas_monthly_payment = float(input('Enter your expected monthly payment of the Gas Car $ (ex: 422.43): '))    \n",
    "gas_gallon_cost = float(input(\"Enter a $ per gallon (ex: 4.35): \"))\n",
    "\n",
    "def metric_conversion(x):\n",
    "    return 1 / x\n",
    "\n",
    "#Electric Car Inputs\n",
    "electric_car = str(input('Enter Make and Model of the Electric Car: '))    \n",
    "electric_highway_kWhmi = float(input('Enter the Highway KWh/mile of the Electric Car (ex: 0.30): '))        \n",
    "electric_highway_mikHW = float(metric_conversion(electric_highway_kWhmi))    \n",
    "electric_city_kWhmi = float(input('Enter the City KWh/mile of the Electric Car (ex: 0.35): '))        \n",
    "electric_city_mikHw = float(metric_conversion(electric_city_kWhmi))  \n",
    "electric_monthly_payment = float(input('Enter your expected monthly payment of the Electric Car $ (ex: 452.63): '))    \n",
    "electric_kWh_cost = float(input(\"Enter a $ per kHw (ex: 0.26): \"))\n",
    "\n",
    "def week_miles(x):\n",
    "    return x * 5 * 52\n",
    "\n",
    "# Weekday Miles Inputs\n",
    "highway_miles_per_wrkweek = float(input(\"Enter your daily workday \"\n",
    "                                              \"highway miles, to and from combined. Enter 0 if none. \"\n",
    "                                              \"(ex: 88; 44 to and 44 back): \"))\n",
    "highway_miles_per_workweek = week_miles(highway_miles_per_wrkweek)\n",
    "    \n",
    "city_miles_per_wrkweek = float(input(\"Enter your daily workday city miles. Enter 0 if none.\"\n",
    "                                           \"(ex: 16): \"))\n",
    "city_miles_per_workweek = week_miles(city_miles_per_wrkweek)\n",
    "\n",
    "def weekend_miles(x):\n",
    "    return x * 2 * 52\n",
    "\n",
    "# Weekend Miles Inputs\n",
    "highway_miles_per_wknd = float(input(\"Enter your estimated daily highway miles on\"\n",
    "                                             \" a weekend day. Enter 0 if none. \"\n",
    "                                             \"(ex: 54): \"))\n",
    "highway_miles_per_weekend = weekend_miles(highway_miles_per_wknd)\n",
    "    \n",
    "city_miles_per_wknd = float(input('Enter your estimated daily city miles on a weekend day. Enter 0'\n",
    "                                              ' if none. (ex: 18): '))\n",
    "city_miles_per_weekend = weekend_miles(city_miles_per_wknd)\n",
    "\n",
    "def car_costs(a,b,c):\n",
    "    return a/b*c\n",
    "    \n",
    "# Gas Car Costs\n",
    "gas_wkday_highway_cost = car_costs(highway_miles_per_workweek, gas_highway_mpg, gas_gallon_cost)\n",
    "gas_wkday_city_cost = car_costs(city_miles_per_workweek, gas_city_mpg, gas_gallon_cost)\n",
    "gas_wknd_highway_cost = car_costs(highway_miles_per_weekend, gas_highway_mpg, gas_gallon_cost)\n",
    "gas_wknd_city_cost = car_costs(city_miles_per_weekend, gas_city_mpg, gas_gallon_cost)\n",
    "    \n",
    "# Electric Car Costs\n",
    "e_wkday_highway_cost = car_costs(highway_miles_per_workweek, electric_highway_mikHW, electric_kWh_cost)\n",
    "e_wkday_city_cost = car_costs(city_miles_per_workweek, electric_city_mikHw, electric_kWh_cost)\n",
    "e_wknd_highway_cost = car_costs(highway_miles_per_weekend, electric_highway_mikHW, electric_kWh_cost)\n",
    "e_wknd_city_cost = car_costs(city_miles_per_weekend, electric_city_mikHw, electric_kWh_cost)\n",
    "\n",
    "def car_total(a,b,c,d):\n",
    "    return a+b+c+d\n",
    "\n",
    "def note_cost(x):\n",
    "    return x * 12\n",
    "\n",
    "#Gas Car Total\n",
    "total_gas_cost = car_total(gas_wkday_highway_cost, gas_wkday_city_cost, gas_wknd_highway_cost, gas_wknd_city_cost)\n",
    "total_gas_note_cost = note_cost(gas_monthly_payment)\n",
    "gas_car_total = total_gas_cost + total_gas_note_cost\n",
    "    \n",
    "#Electric Car Total\n",
    "total_electric_cost = car_total(e_wkday_highway_cost, e_wkday_city_cost, e_wknd_highway_cost, e_wknd_city_cost)\n",
    "total_electric_note_cost = note_cost(electric_monthly_payment)\n",
    "electric_car_total = total_electric_cost + total_electric_note_cost\n",
    "        \n",
    "\n",
    "def compare_cars():\n",
    "    if gas_car_total > electric_car_total:\n",
    "        difference = round(float(gas_car_total - electric_car_total), 2)\n",
    "        return \"Your total savings with the {car_b} over the {car_a} is:\".format(car_b=electric_car, car_a=gas_car), \\\n",
    "               difference\n",
    "    elif electric_car_total > gas_car_total:\n",
    "        difference = str(round(float(electric_car_total - gas_car_total), 2))\n",
    "        return \"Your total savings with the {car_a} over the {car_b} is approximately,\" \\\n",
    "               \" ${difference1}\".format(car_a=gas_car, car_b=electric_car, difference1=difference)\n",
    "    \n",
    "print(compare_cars())"
   ]
  }
 ],
 "metadata": {
  "kernelspec": {
   "display_name": "Python 3.7.4 ('base')",
   "language": "python",
   "name": "python3"
  },
  "language_info": {
   "codemirror_mode": {
    "name": "ipython",
    "version": 3
   },
   "file_extension": ".py",
   "mimetype": "text/x-python",
   "name": "python",
   "nbconvert_exporter": "python",
   "pygments_lexer": "ipython3",
   "version": "3.7.4"
  },
  "vscode": {
   "interpreter": {
    "hash": "9073316ac7897129003681016bd15248e9c48bc2f7a1e1c5f4694ffc824c4103"
   }
  }
 },
 "nbformat": 4,
 "nbformat_minor": 2
}
